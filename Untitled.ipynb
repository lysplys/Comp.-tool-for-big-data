{
 "cells": [
  {
   "cell_type": "markdown",
   "metadata": {},
   "source": [
    "#### Excercises for Computational data\n",
    "\n",
    "##### Excercise 1.1:\n",
    "Write a command that finds the 10 most popular words in a file.\n",
    "\n",
    "for unix :\n",
    "\n",
    "*$cat haiku.txt | tr -c '[:alnum:]' '[\\n*]' |tr '[:upper:]' '[:lower:]'|sort | uniq -c | sort -nr | head  -10*\n",
    "\n",
    "or \n",
    "\n",
    "*$cat haiku.txt | tr ' '  '\\012' | tr '[:upper:]' '[:lower:]' | tr -d '[:punct:]' | grep -v '[^a-z]' | sort | uniq -c | sort -rn | head*\n",
    "\n",
    "\n",
    "-u and -unique are the same, -unique supports more systems since it is older. \n"
   ]
  },
  {
   "cell_type": "markdown",
   "metadata": {},
   "source": [
    "##### Excercise 1.2\n",
    "\n",
    "Put this data (https://www.dropbox.com/s/d5c4x905w4jelbu/cars.txt?dl=0) into a file and write a command that removes all rows where the price is more than 10,000$.\n",
    "\n",
    "cars.txt is in the gbar putty - in the top layer under data-shell\n",
    "\n",
    "comment: -v:inverse , -w: word, -E: regular expression for the (word|word) syntax, >: sends result to new file \n",
    "\n",
    "\n",
    "*$grep -vwE \"(word|word)\" sourcefile > destinationfile*\n",
    "\n",
    "\n",
    "solutions:\n",
    "\n",
    "\n",
    "*cat cars.txt | awk '{ if ($5 >= 10000) print $1\" \"$5}' > cars-revised.name*\n",
    "\n",
    "or\n",
    "\n",
    "\n",
    "This is for showing the ones above 10,000\n",
    "\n",
    "\n",
    "*$ grep -E '.* [0]*[1-9][0-9]{4,}$' cars.txt* \n",
    "\n",
    ".* will match all characters upto the last column containing prices\n",
    "[1-9] will match the first digit of the price\n",
    "[0-9]{4,}$ will match 4 or more digits after the first digit so we have a total of five digits meaning 10000 or greater\n",
    "\n",
    "This is deleting it. \n",
    "*$ grep -vE '.* [0]*[1-9][0-9]{4,}$' cars.txt* \n",
    "\n",
    "this is for deleting whitespaces.. : \n",
    "$ grep -v '^$' input.txt > output.txt\n",
    "\n",
    "\n",
    "\n"
   ]
  },
  {
   "cell_type": "markdown",
   "metadata": {},
   "source": [
    "##### Excercise 1.3\n",
    "\n",
    "Using this file (https://www.dropbox.com/s/tjv9pyfrd9ztx8r/dict?dl=0) as a dictionary, write a simple spellchecker that takes input from stdin or a file and outputs a list of words not in the dictionary. One solution gets 721 misspelled words in this Shakespeare file (https://www.dropbox.com/s/bnku7grfycm8ii6/shakespeare.txt?dl=0).\n",
    "\n",
    "Consider using the command “comm”.\n",
    "\n",
    "\n",
    "First i added both shakespeare and the dict file to ec2, since it would not allow me to upload dict on the gbar. \n",
    "\n",
    "Next i modified the files: \n",
    "\n",
    "Shakespeare: \n",
    "tr [:blank:] '\\n'< shakespeare.txt| tr [:punct:] '\\n' | tr -d [:blank:]| tr 'A-Z ' 'a-z'| sort| uniq > shakespearestandard.txt\n",
    "\n",
    "then i made all the letters small in dict :\n",
    "\n",
    "-u and -unique are the same, -unique supports more systems since it is older.\n",
    "\n",
    "tr '[:upper:]' '[:lower:]' < dict sort -u > dictstandard\n",
    "\n",
    "finally i used the comm method and choose to hide the second and 3rd column - giving the output of only shakkespeare differences from dict \n",
    "\n",
    "comm -2 -3 shakespearstandard.txt dict | wc -w\n",
    "\n",
    "output  = 721"
   ]
  },
  {
   "cell_type": "markdown",
   "metadata": {},
   "source": [
    "##### Excercise 1-4"
   ]
  }
 ],
 "metadata": {
  "kernelspec": {
   "display_name": "Python [Root]",
   "language": "python",
   "name": "Python [Root]"
  },
  "language_info": {
   "codemirror_mode": {
    "name": "ipython",
    "version": 2
   },
   "file_extension": ".py",
   "mimetype": "text/x-python",
   "name": "python",
   "nbconvert_exporter": "python",
   "pygments_lexer": "ipython2",
   "version": "2.7.12"
  }
 },
 "nbformat": 4,
 "nbformat_minor": 0
}
